{
 "cells": [
  {
   "cell_type": "code",
   "execution_count": 2,
   "id": "83936fe8",
   "metadata": {},
   "outputs": [
    {
     "name": "stdout",
     "output_type": "stream",
     "text": [
      "Enter your favorite movie keywords: spy based on novel secret agent sequel mi6\n",
      "Close match found: spy based on novel secret agent sequel mi6\n",
      "Movies suggested for you:\n",
      "1. Spectre\n",
      "2. Skyfall\n",
      "3. Irreversible\n",
      "4. The Legend of Tarzan\n",
      "5. Carnage\n",
      "6. The Green Hornet\n",
      "7. Coriolanus\n",
      "8. The Sorcerer's Apprentice\n",
      "9. Mission: Impossible - Ghost Protocol\n",
      "10. Final Destination\n",
      "11. Django Unchained\n",
      "12. Action Jackson\n",
      "13. Big Eyes\n",
      "14. Water for Elephants\n",
      "15. Harry Potter and the Order of the Phoenix\n"
     ]
    }
   ],
   "source": [
    "import numpy as np\n",
    "import pandas as pd\n",
    "import difflib\n",
    "from sklearn.feature_extraction.text import TfidfVectorizer\n",
    "from sklearn.metrics.pairwise import cosine_similarity\n",
    "\n",
    "# Load the movies dataset\n",
    "movies = pd.read_csv('movies.csv')\n",
    "\n",
    "# Define selected features to consider for similarity\n",
    "selected_features = ['title', 'genres', 'tagline', 'cast', 'director']\n",
    "\n",
    "# Replace null values with empty strings for selected features\n",
    "for feature in selected_features:\n",
    "    movies[feature] = movies[feature].fillna('')\n",
    "\n",
    "# Combine selected features into a single text column for vectorization\n",
    "movies['combined'] = movies['title'] + ' ' + movies['genres'] + ' ' + movies['tagline'] + ' ' + movies['cast'] + ' ' + movies['director']\n",
    "\n",
    "# Initialize a TfidfVectorizer to convert text to feature vectors\n",
    "vectorizer = TfidfVectorizer()\n",
    "feature_vectors = vectorizer.fit_transform(movies['combined'])\n",
    "\n",
    "# Compute cosine similarity between feature vectors\n",
    "similarity = cosine_similarity(feature_vectors)\n",
    "\n",
    "# Prompt user to input their favorite movie genre\n",
    "movie_keywords = input('Enter your favorite movie keywords: ')\n",
    "\n",
    "# Find the closest match for the movie genre given by the user\n",
    "close_match = difflib.get_close_matches(movie_keywords, movies['keywords'].astype(str).tolist())\n",
    "if not close_match:\n",
    "    print(f\"No close match found for '{movie_keywords}'. Please try different keywords.\")\n",
    "    exit()\n",
    "\n",
    "# Select the first close match (assuming it exists)\n",
    "close_match = close_match[0]\n",
    "print(f\"Close match found: {close_match}\")\n",
    "\n",
    "# Find the index of the movie with the closest matched genre\n",
    "index_of_movie = movies[movies['keywords'].astype(str) == close_match].index[0]\n",
    "\n",
    "# Get list of similar movies based on similarity scores\n",
    "similarity_scores = list(enumerate(similarity[index_of_movie]))\n",
    "\n",
    "# Sort movies by similarity scores in descending order\n",
    "sorted_similar = sorted(similarity_scores, key=lambda x: x[1], reverse=True)\n",
    "\n",
    "# Print the top similar movies\n",
    "print('Movies suggested for you:')\n",
    "for i, movie in enumerate(sorted_similar[:15], 1):\n",
    "    index = movie[0]\n",
    "    title = movies.loc[index, 'title']\n",
    "    print(f\"{i}. {title}\")\n"
   ]
  },
  {
   "cell_type": "code",
   "execution_count": null,
   "id": "bda8e007",
   "metadata": {},
   "outputs": [],
   "source": []
  },
  {
   "cell_type": "code",
   "execution_count": null,
   "id": "42df7bcb",
   "metadata": {},
   "outputs": [],
   "source": []
  }
 ],
 "metadata": {
  "kernelspec": {
   "display_name": "Python 3 (ipykernel)",
   "language": "python",
   "name": "python3"
  },
  "language_info": {
   "codemirror_mode": {
    "name": "ipython",
    "version": 3
   },
   "file_extension": ".py",
   "mimetype": "text/x-python",
   "name": "python",
   "nbconvert_exporter": "python",
   "pygments_lexer": "ipython3",
   "version": "3.11.7"
  }
 },
 "nbformat": 4,
 "nbformat_minor": 5
}
